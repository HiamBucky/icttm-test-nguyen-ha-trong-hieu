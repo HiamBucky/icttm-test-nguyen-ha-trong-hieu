{
 "cells": [
  {
   "cell_type": "markdown",
   "metadata": {},
   "source": [
    "This file will be used to contain data processing components"
   ]
  },
  {
   "cell_type": "code",
   "execution_count": 1,
   "metadata": {},
   "outputs": [
    {
     "name": "stdout",
     "output_type": "stream",
     "text": [
      "Requirement already satisfied: boto3 in c:\\users\\18tro\\desktop\\icttm-test-nguyen-ha-trong-hieu\\venv\\lib\\site-packages (1.34.69)\n",
      "Requirement already satisfied: pyspark in c:\\users\\18tro\\desktop\\icttm-test-nguyen-ha-trong-hieu\\venv\\lib\\site-packages (3.5.1)\n",
      "Requirement already satisfied: delta-spark in c:\\users\\18tro\\desktop\\icttm-test-nguyen-ha-trong-hieu\\venv\\lib\\site-packages (3.1.0)\n",
      "Requirement already satisfied: python-dotenv in c:\\users\\18tro\\desktop\\icttm-test-nguyen-ha-trong-hieu\\venv\\lib\\site-packages (1.0.1)\n",
      "Requirement already satisfied: botocore<1.35.0,>=1.34.69 in c:\\users\\18tro\\desktop\\icttm-test-nguyen-ha-trong-hieu\\venv\\lib\\site-packages (from boto3) (1.34.71)\n",
      "Requirement already satisfied: jmespath<2.0.0,>=0.7.1 in c:\\users\\18tro\\desktop\\icttm-test-nguyen-ha-trong-hieu\\venv\\lib\\site-packages (from boto3) (1.0.1)\n",
      "Requirement already satisfied: s3transfer<0.11.0,>=0.10.0 in c:\\users\\18tro\\desktop\\icttm-test-nguyen-ha-trong-hieu\\venv\\lib\\site-packages (from boto3) (0.10.1)\n",
      "Requirement already satisfied: py4j==0.10.9.7 in c:\\users\\18tro\\desktop\\icttm-test-nguyen-ha-trong-hieu\\venv\\lib\\site-packages (from pyspark) (0.10.9.7)\n",
      "Requirement already satisfied: importlib-metadata>=1.0.0 in c:\\users\\18tro\\desktop\\icttm-test-nguyen-ha-trong-hieu\\venv\\lib\\site-packages (from delta-spark) (7.1.0)\n",
      "Requirement already satisfied: python-dateutil<3.0.0,>=2.1 in c:\\users\\18tro\\desktop\\icttm-test-nguyen-ha-trong-hieu\\venv\\lib\\site-packages (from botocore<1.35.0,>=1.34.69->boto3) (2.9.0.post0)\n",
      "Requirement already satisfied: urllib3!=2.2.0,<3,>=1.25.4 in c:\\users\\18tro\\desktop\\icttm-test-nguyen-ha-trong-hieu\\venv\\lib\\site-packages (from botocore<1.35.0,>=1.34.69->boto3) (2.0.7)\n",
      "Requirement already satisfied: zipp>=0.5 in c:\\users\\18tro\\desktop\\icttm-test-nguyen-ha-trong-hieu\\venv\\lib\\site-packages (from importlib-metadata>=1.0.0->delta-spark) (3.18.1)\n",
      "Requirement already satisfied: six>=1.5 in c:\\users\\18tro\\desktop\\icttm-test-nguyen-ha-trong-hieu\\venv\\lib\\site-packages (from python-dateutil<3.0.0,>=2.1->botocore<1.35.0,>=1.34.69->boto3) (1.16.0)\n",
      "Note: you may need to restart the kernel to use updated packages.\n"
     ]
    },
    {
     "name": "stderr",
     "output_type": "stream",
     "text": [
      "\n",
      "[notice] A new release of pip is available: 23.2.1 -> 24.0\n",
      "[notice] To update, run: python.exe -m pip install --upgrade pip\n"
     ]
    }
   ],
   "source": [
    "%pip install boto3 pyspark delta-spark python-dotenv"
   ]
  },
  {
   "cell_type": "code",
   "execution_count": 2,
   "metadata": {},
   "outputs": [],
   "source": [
    "\n",
    "import os\n",
    "from pyspark.sql import SparkSession\n",
    "from pyspark import SparkConf"
   ]
  },
  {
   "cell_type": "code",
   "execution_count": 3,
   "metadata": {},
   "outputs": [],
   "source": [
    "# Define S3 storage\n",
    "obj_storage_access_key = os.getenv('OBJ_STORAGE_ACCESS_KEY')\n",
    "obj_storage_secret_key = os.getenv('OBJ_STORAGE_SECRET_KEY')\n",
    "obj_storage_endpoint = os.getenv('OBJ_STORAGE_ENDPOINT', 'http://localhost:9000')"
   ]
  },
  {
   "cell_type": "code",
   "execution_count": 4,
   "metadata": {},
   "outputs": [],
   "source": [
    "path_1 = \"s3a://data/data-raw/data.json\"\n",
    "path_2 = \"s3a://data/data-raw/data2.json\"\n",
    "path_3 = \"s3a://data/data-raw/data3.json\""
   ]
  },
  {
   "cell_type": "code",
   "execution_count": 5,
   "metadata": {},
   "outputs": [
    {
     "data": {
      "text/plain": [
       "<pyspark.conf.SparkConf at 0x1af68c8c9b0>"
      ]
     },
     "execution_count": 5,
     "metadata": {},
     "output_type": "execute_result"
    }
   ],
   "source": [
    "conf = SparkConf()\n",
    "conf.set(\"spark.hadoop.fs.s3a.access.key\", obj_storage_access_key)\n",
    "conf.set(\"spark.hadoop.fs.s3a.secret.key\", obj_storage_secret_key)\n",
    "conf.set(\"spark.hadoop.fs.s3a.endpoint\", obj_storage_endpoint)\n",
    "conf.set(\"spark.hadoop.fs.s3a.path.style.access\", \"true\")\n",
    "conf.set(\"spark.jars.packages\", \"org.apache.hadoop:hadoop-aws:3.3.4\")\n",
    "conf.set(\"spark.hadoop.fs.s3a.impl\", \"org.apache.hadoop.fs.s3a.S3AFileSystem\")\n",
    "\n",
    "# Below code is to avoid having to create an AWS account\n",
    "conf.set('spark.hadoop.fs.s3a.aws.credentials.provider', 'org.apache.hadoop.fs.s3a.AnonymousAWSCredentialsProvider')\n",
    "conf.set(\"fs.s3a.requester.pays.enabled\", \"true\")"
   ]
  },
  {
   "cell_type": "code",
   "execution_count": 6,
   "metadata": {},
   "outputs": [],
   "source": [
    "spark = SparkSession \\\n",
    "    .builder \\\n",
    "    .appName(\"Python Spark SQL basic example\") \\\n",
    "    .config(conf=conf) \\\n",
    "    .getOrCreate()"
   ]
  },
  {
   "cell_type": "code",
   "execution_count": 7,
   "metadata": {},
   "outputs": [],
   "source": [
    "from functools import reduce\n",
    "path_list = [path_1, path_2, path_3]\n",
    "dataframes = map(lambda p: spark.read.json(p, multiLine=True), path_list)\n",
    "union_df = reduce(lambda df1, df2: df1.union(df2), dataframes)\n"
   ]
  },
  {
   "cell_type": "code",
   "execution_count": null,
   "metadata": {},
   "outputs": [],
   "source": []
  },
  {
   "cell_type": "code",
   "execution_count": 17,
   "metadata": {},
   "outputs": [
    {
     "name": "stdout",
     "output_type": "stream",
     "text": [
      "+--------------------+--------------------+----+-------------------+----+--------------------+-----+\n",
      "|             batters|             filling|  id|               name| ppu|             topping| type|\n",
      "+--------------------+--------------------+----+-------------------+----+--------------------+-----+\n",
      "|{[{1001, Regular}...|                NULL|0004|              Jelly|0.65|[{5001, None}, {5...|donut|\n",
      "|{[{1001, Regular}...|                NULL|0005|     Custard-Filled|0.75|[{5001, None}, {5...|donut|\n",
      "|{[{1001, Regular}...|[{6001, None}, {6...|0006|     Cinnamon Twist|0.85|[{5001, None}, {5...|donut|\n",
      "|{[{1001, Regular}...|                NULL|0007|    Vanilla Frosted|0.75|[{5001, None}, {5...|donut|\n",
      "|{[{1001, Regular}...|                NULL|0008| Strawberry Frosted|0.85|[{5001, None}, {5...|donut|\n",
      "|{[{1001, Regular}...|                NULL|0009|     Chocolate Cake|0.75|[{5001, None}, {5...|donut|\n",
      "|{[{1001, Regular}...|                NULL|0010|     Blueberry Cake|0.55|[{5001, None}, {5...|donut|\n",
      "|{[{1001, Regular}...|                NULL|0011|  Devil's Food Cake|0.75|[{5001, None}, {5...|donut|\n",
      "|{[{1001, Regular}...|                NULL|0012|        Jelly Donut|0.65|[{5001, None}, {5...|donut|\n",
      "| {[{1001, Regular}]}|                NULL|0013|       Raised Donut|0.55|[{5001, None}, {5...|donut|\n",
      "|{[{1001, Regular}...|                NULL|0014|Old Fashioned Donut|0.75|[{5001, None}, {5...|donut|\n",
      "| {[{1001, Regular}]}|                NULL|0015|            Cruller|0.85|[{5001, None}, {5...|donut|\n",
      "|{[{1001, Regular}...|[{6001, None}, {6...|0016|       Filled Donut|0.95|[{5001, None}, {5...|donut|\n",
      "|{[{1001, Regular}...|                NULL|0017|      Old Fashioned|0.65|[{5001, None}, {5...|donut|\n",
      "| {[{1001, Regular}]}|                NULL|0018|            Regular|0.55|[{5001, None}, {5...|donut|\n",
      "| {[{1001, Regular}]}|[{6001, None}, {6...|0019|          Blueberry|0.75|[{5002, Glazed}, ...|donut|\n",
      "|{[{1001, Regular}...|                NULL|0004|              Jelly|0.65|[{5001, None}, {5...|donut|\n",
      "| {[{1001, Regular}]}|                NULL|0020|       Devil's Food|0.75|[{5002, Glazed}, ...|donut|\n",
      "|{[{1001, Regular}...|                NULL|0021|      Vanilla Cream|0.75|[{5002, Glazed}, ...|donut|\n",
      "+--------------------+--------------------+----+-------------------+----+--------------------+-----+\n",
      "\n"
     ]
    }
   ],
   "source": [
    "union_df.show()"
   ]
  },
  {
   "cell_type": "code",
   "execution_count": 48,
   "metadata": {},
   "outputs": [],
   "source": [
    "import pandas as pd\n",
    "pandas_df = union_df.toPandas()\n",
    "pandas_df.to_json(path_or_buf=\"result.json\", orient='records')"
   ]
  },
  {
   "cell_type": "code",
   "execution_count": 45,
   "metadata": {},
   "outputs": [],
   "source": [
    "# THIS PART IS A TEST TO FORMAT RESULT.JSON\n",
    "# import json\n",
    "# with open(file=\"result.json\", mode=\"r+\") as file:\n",
    "#     data = json.load(file)\n",
    "#     for rec in data:\n",
    "        \n",
    "#         rec[\"batters\"] = {\"batter\": item for item in rec[\"batters\"]}\n",
    "#     file.seek(0)\n",
    "#     json.dump(data, file, indent=4)"
   ]
  },
  {
   "cell_type": "code",
   "execution_count": 50,
   "metadata": {},
   "outputs": [],
   "source": [
    "def upload_file_to_minio(file_path, minio_bucket, minio_object_name):\n",
    "    s3c = boto3.resource('s3',\n",
    "                        endpoint_url=obj_storage_endpoint,\n",
    "                        aws_access_key_id=obj_storage_access_key,\n",
    "                        aws_secret_access_key=obj_storage_secret_key,\n",
    "                        config=boto3.session.Config(signature_version='s3v4'),\n",
    "                        verify=False\n",
    "                        )\n",
    "    s3c.Bucket(minio_bucket).upload_file(file_path, minio_object_name)"
   ]
  },
  {
   "cell_type": "code",
   "execution_count": 52,
   "metadata": {},
   "outputs": [],
   "source": [
    "upload_file_to_minio(\"result.json\", \"data\", \"data-result/result.json\")"
   ]
  },
  {
   "cell_type": "code",
   "execution_count": 54,
   "metadata": {},
   "outputs": [
    {
     "name": "stdout",
     "output_type": "stream",
     "text": [
      "+--------------------+--------------------+----+-------------------+----+--------------------+-----+\n",
      "|             batters|             filling|  id|               name| ppu|             topping| type|\n",
      "+--------------------+--------------------+----+-------------------+----+--------------------+-----+\n",
      "|[[[1001, Regular]...|                NULL|0004|              Jelly|0.65|[[5001, None], [5...|donut|\n",
      "|[[[1001, Regular]...|                NULL|0005|     Custard-Filled|0.75|[[5001, None], [5...|donut|\n",
      "|[[[1001, Regular]...|[[6001, None], [6...|0006|     Cinnamon Twist|0.85|[[5001, None], [5...|donut|\n",
      "|[[[1001, Regular]...|                NULL|0007|    Vanilla Frosted|0.75|[[5001, None], [5...|donut|\n",
      "|[[[1001, Regular]...|                NULL|0008| Strawberry Frosted|0.85|[[5001, None], [5...|donut|\n",
      "|[[[1001, Regular]...|                NULL|0009|     Chocolate Cake|0.75|[[5001, None], [5...|donut|\n",
      "|[[[1001, Regular]...|                NULL|0010|     Blueberry Cake|0.55|[[5001, None], [5...|donut|\n",
      "|[[[1001, Regular]...|                NULL|0011|  Devil's Food Cake|0.75|[[5001, None], [5...|donut|\n",
      "|[[[1001, Regular]...|                NULL|0012|        Jelly Donut|0.65|[[5001, None], [5...|donut|\n",
      "| [[[1001, Regular]]]|                NULL|0013|       Raised Donut|0.55|[[5001, None], [5...|donut|\n",
      "|[[[1001, Regular]...|                NULL|0014|Old Fashioned Donut|0.75|[[5001, None], [5...|donut|\n",
      "| [[[1001, Regular]]]|                NULL|0015|            Cruller|0.85|[[5001, None], [5...|donut|\n",
      "|[[[1001, Regular]...|[[6001, None], [6...|0016|       Filled Donut|0.95|[[5001, None], [5...|donut|\n",
      "|[[[1001, Regular]...|                NULL|0017|      Old Fashioned|0.65|[[5001, None], [5...|donut|\n",
      "| [[[1001, Regular]]]|                NULL|0018|            Regular|0.55|[[5001, None], [5...|donut|\n",
      "| [[[1001, Regular]]]|[[6001, None], [6...|0019|          Blueberry|0.75|[[5002, Glazed], ...|donut|\n",
      "|[[[1001, Regular]...|                NULL|0004|              Jelly|0.65|[[5001, None], [5...|donut|\n",
      "| [[[1001, Regular]]]|                NULL|0020|       Devil's Food|0.75|[[5002, Glazed], ...|donut|\n",
      "|[[[1001, Regular]...|                NULL|0021|      Vanilla Cream|0.75|[[5002, Glazed], ...|donut|\n",
      "+--------------------+--------------------+----+-------------------+----+--------------------+-----+\n",
      "\n"
     ]
    }
   ],
   "source": [
    "result_path = \"s3a://data/data-result/result.json\"\n",
    "result_df = spark.read.json(result_path, multiLine=True)\n",
    "result_df.show()"
   ]
  }
 ],
 "metadata": {
  "kernelspec": {
   "display_name": ".venv",
   "language": "python",
   "name": "python3"
  },
  "language_info": {
   "codemirror_mode": {
    "name": "ipython",
    "version": 3
   },
   "file_extension": ".py",
   "mimetype": "text/x-python",
   "name": "python",
   "nbconvert_exporter": "python",
   "pygments_lexer": "ipython3",
   "version": "3.12.0"
  }
 },
 "nbformat": 4,
 "nbformat_minor": 2
}
